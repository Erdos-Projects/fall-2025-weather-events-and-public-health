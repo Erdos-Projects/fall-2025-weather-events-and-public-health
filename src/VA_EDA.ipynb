{
 "cells": [
  {
   "cell_type": "code",
   "execution_count": 1,
   "id": "d3651f04",
   "metadata": {},
   "outputs": [],
   "source": [
    "import pandas as pd\n",
    "import numpy as np\n",
    "import matplotlib.pyplot as plt\n",
    "import plotly.express as px\n",
    "import seaborn as sns\n",
    "\n",
    "sns.set_style(\"whitegrid\")"
   ]
  },
  {
   "cell_type": "code",
   "execution_count": 2,
   "id": "e5d628f2",
   "metadata": {},
   "outputs": [
    {
     "name": "stdout",
     "output_type": "stream",
     "text": [
      "<class 'pandas.core.frame.DataFrame'>\n",
      "RangeIndex: 57 entries, 0 to 56\n",
      "Data columns (total 12 columns):\n",
      " #   Column                           Non-Null Count  Dtype  \n",
      "---  ------                           --------------  -----  \n",
      " 0   County                           57 non-null     object \n",
      " 1   Emergency Visits / 100000        42 non-null     float64\n",
      " 2   Hospitalizations / 100000        19 non-null     float64\n",
      " 3   Energy Burden % of Income        57 non-null     object \n",
      " 4   Imperviousness                   57 non-null     object \n",
      " 5   Park within 1/2 Mile             57 non-null     object \n",
      " 6   Hospital Beds / 10000            57 non-null     object \n",
      " 7   Housing Built before 1980        57 non-null     object \n",
      " 8   Housing Insecurity               57 non-null     object \n",
      " 9   Lack of Reliable Transportation  57 non-null     object \n",
      " 10  % w/o Internet                   57 non-null     object \n",
      " 11  Utility Services Threat          57 non-null     object \n",
      "dtypes: float64(2), object(10)\n",
      "memory usage: 5.5+ KB\n"
     ]
    }
   ],
   "source": [
    "county_df = pd.read_excel(\"data/County_Statistics.xlsx\")\n",
    "county_df.info()"
   ]
  },
  {
   "cell_type": "markdown",
   "id": "8f7ae0d0",
   "metadata": {},
   "source": [
    "Missing values in Emergency visits and Hospitalizations. Let's drop hospitalizations since there are so many missing values. There is much more data on emergency visits so let's keep as much as we can and only drop county data that have empty values for it. We could also add heat related illnesses from tracking california tool if available."
   ]
  },
  {
   "cell_type": "markdown",
   "id": "619e458c",
   "metadata": {},
   "source": [
    "#### Cleaning"
   ]
  },
  {
   "cell_type": "code",
   "execution_count": null,
   "id": "056ccb01",
   "metadata": {},
   "outputs": [
    {
     "data": {
      "text/html": [
       "<div>\n",
       "<style scoped>\n",
       "    .dataframe tbody tr th:only-of-type {\n",
       "        vertical-align: middle;\n",
       "    }\n",
       "\n",
       "    .dataframe tbody tr th {\n",
       "        vertical-align: top;\n",
       "    }\n",
       "\n",
       "    .dataframe thead th {\n",
       "        text-align: right;\n",
       "    }\n",
       "</style>\n",
       "<table border=\"1\" class=\"dataframe\">\n",
       "  <thead>\n",
       "    <tr style=\"text-align: right;\">\n",
       "      <th></th>\n",
       "      <th>Emergency Visits / 100000</th>\n",
       "      <th>Park within 1/2 Mile</th>\n",
       "      <th>Imperviousness</th>\n",
       "    </tr>\n",
       "  </thead>\n",
       "  <tbody>\n",
       "    <tr>\n",
       "      <th>2</th>\n",
       "      <td>43.53</td>\n",
       "      <td>62.6%</td>\n",
       "      <td>2.0%</td>\n",
       "    </tr>\n",
       "    <tr>\n",
       "      <th>5</th>\n",
       "      <td>13.06</td>\n",
       "      <td>80.6%</td>\n",
       "      <td>15.1%</td>\n",
       "    </tr>\n",
       "    <tr>\n",
       "      <th>7</th>\n",
       "      <td>17.31</td>\n",
       "      <td>71.8%</td>\n",
       "      <td>1.3%</td>\n",
       "    </tr>\n",
       "    <tr>\n",
       "      <th>8</th>\n",
       "      <td>28.84</td>\n",
       "      <td>69.6%</td>\n",
       "      <td>2.5%</td>\n",
       "    </tr>\n",
       "    <tr>\n",
       "      <th>9</th>\n",
       "      <td>47.49</td>\n",
       "      <td>37.8%</td>\n",
       "      <td>1.0%</td>\n",
       "    </tr>\n",
       "  </tbody>\n",
       "</table>\n",
       "</div>"
      ],
      "text/plain": [
       "   Emergency Visits / 100000 Park within 1/2 Mile Imperviousness\n",
       "2                      43.53                62.6%           2.0%\n",
       "5                      13.06                80.6%          15.1%\n",
       "7                      17.31                71.8%           1.3%\n",
       "8                      28.84                69.6%           2.5%\n",
       "9                      47.49                37.8%           1.0%"
      ]
     },
     "execution_count": 3,
     "metadata": {},
     "output_type": "execute_result"
    }
   ],
   "source": [
    "#keep only emergency visits and columns 4&5\n",
    "keep = ['Emergency Visits / 100000', 'Park within 1/2 Mile', 'Imperviousness']\n",
    "\n",
    "county_df = county_df[keep]\n",
    "\n",
    "#drop na to drop rows with empty values for emergency visits\n",
    "#this will turn our target into emergency visits for now\n",
    "\n",
    "county_df = county_df.dropna()\n",
    "\n",
    "county_df.head()\n"
   ]
  },
  {
   "cell_type": "markdown",
   "id": "5ff65488",
   "metadata": {},
   "source": [
    "Need to convert park within 1/2 mile & imperviousness into floats from % objects"
   ]
  },
  {
   "cell_type": "code",
   "execution_count": 13,
   "id": "f99d2a0a",
   "metadata": {},
   "outputs": [
    {
     "name": "stdout",
     "output_type": "stream",
     "text": [
      "<class 'pandas.core.frame.DataFrame'>\n",
      "Index: 42 entries, 2 to 56\n",
      "Data columns (total 3 columns):\n",
      " #   Column                     Non-Null Count  Dtype  \n",
      "---  ------                     --------------  -----  \n",
      " 0   Emergency Visits / 100000  42 non-null     float64\n",
      " 1   Park within 1/2 Mile       42 non-null     float64\n",
      " 2   Imperviousness             42 non-null     float64\n",
      "dtypes: float64(3)\n",
      "memory usage: 1.3 KB\n"
     ]
    }
   ],
   "source": [
    "#remove % before converting to float\n",
    "#county_df['Park within 1/2 Mile'] = county_df['Park within 1/2 Mile'].str.removesuffix('%')\n",
    "#county_df['Imperviousness'] = county_df['Imperviousness'].str.removesuffix('%')\n",
    "\n",
    "#county_df['Park within 1/2 Mile'] = county_df['Park within 1/2 Mile'].astype(float)\n",
    "#county_df['Imperviousness'] = county_df['Imperviousness'].astype(float)\n",
    "\n",
    "county_df.info()"
   ]
  },
  {
   "cell_type": "code",
   "execution_count": 6,
   "id": "a85d8876",
   "metadata": {},
   "outputs": [
    {
     "data": {
      "text/html": [
       "<div>\n",
       "<style scoped>\n",
       "    .dataframe tbody tr th:only-of-type {\n",
       "        vertical-align: middle;\n",
       "    }\n",
       "\n",
       "    .dataframe tbody tr th {\n",
       "        vertical-align: top;\n",
       "    }\n",
       "\n",
       "    .dataframe thead th {\n",
       "        text-align: right;\n",
       "    }\n",
       "</style>\n",
       "<table border=\"1\" class=\"dataframe\">\n",
       "  <thead>\n",
       "    <tr style=\"text-align: right;\">\n",
       "      <th></th>\n",
       "      <th>Emergency Visits / 100000</th>\n",
       "      <th>Park within 1/2 Mile</th>\n",
       "      <th>Imperviousness</th>\n",
       "    </tr>\n",
       "  </thead>\n",
       "  <tbody>\n",
       "    <tr>\n",
       "      <th>count</th>\n",
       "      <td>42.000000</td>\n",
       "      <td>42.000000</td>\n",
       "      <td>42.000000</td>\n",
       "    </tr>\n",
       "    <tr>\n",
       "      <th>mean</th>\n",
       "      <td>23.615476</td>\n",
       "      <td>68.052381</td>\n",
       "      <td>6.226190</td>\n",
       "    </tr>\n",
       "    <tr>\n",
       "      <th>std</th>\n",
       "      <td>19.532277</td>\n",
       "      <td>17.283056</td>\n",
       "      <td>10.971561</td>\n",
       "    </tr>\n",
       "    <tr>\n",
       "      <th>min</th>\n",
       "      <td>2.890000</td>\n",
       "      <td>30.900000</td>\n",
       "      <td>0.400000</td>\n",
       "    </tr>\n",
       "    <tr>\n",
       "      <th>25%</th>\n",
       "      <td>10.197500</td>\n",
       "      <td>56.625000</td>\n",
       "      <td>1.325000</td>\n",
       "    </tr>\n",
       "    <tr>\n",
       "      <th>50%</th>\n",
       "      <td>20.850000</td>\n",
       "      <td>68.400000</td>\n",
       "      <td>2.500000</td>\n",
       "    </tr>\n",
       "    <tr>\n",
       "      <th>75%</th>\n",
       "      <td>30.185000</td>\n",
       "      <td>81.725000</td>\n",
       "      <td>4.800000</td>\n",
       "    </tr>\n",
       "    <tr>\n",
       "      <th>max</th>\n",
       "      <td>115.940000</td>\n",
       "      <td>100.000000</td>\n",
       "      <td>62.300000</td>\n",
       "    </tr>\n",
       "  </tbody>\n",
       "</table>\n",
       "</div>"
      ],
      "text/plain": [
       "       Emergency Visits / 100000  Park within 1/2 Mile  Imperviousness\n",
       "count                  42.000000             42.000000       42.000000\n",
       "mean                   23.615476             68.052381        6.226190\n",
       "std                    19.532277             17.283056       10.971561\n",
       "min                     2.890000             30.900000        0.400000\n",
       "25%                    10.197500             56.625000        1.325000\n",
       "50%                    20.850000             68.400000        2.500000\n",
       "75%                    30.185000             81.725000        4.800000\n",
       "max                   115.940000            100.000000       62.300000"
      ]
     },
     "execution_count": 6,
     "metadata": {},
     "output_type": "execute_result"
    }
   ],
   "source": [
    "county_df.describe()"
   ]
  },
  {
   "cell_type": "markdown",
   "id": "e8b2c4d4",
   "metadata": {},
   "source": [
    "#### Test-train split"
   ]
  },
  {
   "cell_type": "code",
   "execution_count": 7,
   "id": "8c13a258",
   "metadata": {},
   "outputs": [],
   "source": [
    "from sklearn.model_selection import train_test_split"
   ]
  },
  {
   "cell_type": "code",
   "execution_count": 8,
   "id": "32eb6496",
   "metadata": {},
   "outputs": [],
   "source": [
    "county_train, county_test = train_test_split(\n",
    "    county_df, test_size=0.2, random_state=216, shuffle=True\n",
    ")"
   ]
  },
  {
   "cell_type": "markdown",
   "id": "14381155",
   "metadata": {},
   "source": [
    "##### Exploratory Data Analysis"
   ]
  },
  {
   "cell_type": "code",
   "execution_count": 9,
   "id": "28edf3d0",
   "metadata": {},
   "outputs": [
    {
     "data": {
      "text/plain": [
       "Index(['Emergency Visits / 100000', 'Park within 1/2 Mile', 'Imperviousness'], dtype='object')"
      ]
     },
     "execution_count": 9,
     "metadata": {},
     "output_type": "execute_result"
    }
   ],
   "source": [
    "county_train.columns"
   ]
  },
  {
   "cell_type": "code",
   "execution_count": 11,
   "id": "67d3961c",
   "metadata": {},
   "outputs": [
    {
     "name": "stdout",
     "output_type": "stream",
     "text": [
      "Index(['Park within 1/2 Mile', 'Imperviousness'], dtype='object')\n"
     ]
    }
   ],
   "source": [
    "features = county_train.columns[1:]\n",
    "\n",
    "print(features)"
   ]
  },
  {
   "cell_type": "code",
   "execution_count": 12,
   "id": "d6edda7f",
   "metadata": {},
   "outputs": [
    {
     "data": {
      "image/png": "[encoded data removed]",
      "text/plain": [
       "<Figure size 1000x500 with 2 Axes>"
      ]
     },
     "metadata": {},
     "output_type": "display_data"
    }
   ],
   "source": [
    "sns.pairplot(\n",
    "    county_train,\n",
    "    y_vars=[\"Emergency Visits / 100000\"],\n",
    "    x_vars=features,\n",
    "    height=5,\n",
    "    diag_kind=None,\n",
    ")\n",
    "\n",
    "plt.show()"
   ]
  },
  {
   "cell_type": "markdown",
   "id": "8ce57946",
   "metadata": {},
   "source": [
    "There is a clear relationship between park within 1/2 mile and emergency visits.\n",
    "However, while the relationship between imperviousness is clear and almost exponential (negative). Meaning highly urbanized (high imperviousness) counties have much less emergency visits. It would be interesting to see how much of this imperviousness is trees versus buildings."
   ]
  },
  {
   "cell_type": "code",
   "execution_count": 18,
   "id": "37ebd34a",
   "metadata": {},
   "outputs": [
    {
     "data": {
      "text/plain": [
       "Park within 1/2 Mile   -0.444207\n",
       "Imperviousness         -0.338620\n",
       "dtype: float64"
      ]
     },
     "execution_count": 18,
     "metadata": {},
     "output_type": "execute_result"
    }
   ],
   "source": [
    "county_df[features].corrwith(county_df['Emergency Visits / 100000'])\n"
   ]
  },
  {
   "cell_type": "code",
   "execution_count": null,
   "id": "9066d98f",
   "metadata": {},
   "outputs": [],
   "source": []
  }
 ],
 "metadata": {
  "kernelspec": {
   "display_name": "erdos_ds_environment",
   "language": "python",
   "name": "python3"
  },
  "language_info": {
   "codemirror_mode": {
    "name": "ipython",
    "version": 3
   },
   "file_extension": ".py",
   "mimetype": "text/x-python",
   "name": "python",
   "nbconvert_exporter": "python",
   "pygments_lexer": "ipython3",
   "version": "3.12.11"
  }
 },
 "nbformat": 4,
 "nbformat_minor": 5
}
