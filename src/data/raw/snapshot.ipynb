{
 "cells": [
  {
   "cell_type": "markdown",
   "id": "08b6af54",
   "metadata": {},
   "source": [
    "Raw data snapshots"
   ]
  },
  {
   "cell_type": "code",
   "execution_count": null,
   "id": "145be0a1",
   "metadata": {},
   "outputs": [],
   "source": [
    "import pandas as pd\n",
    "import numpy as np\n",
    "import matplotlib.pyplot as plt\n",
    "import seaborn as sns"
   ]
  },
  {
   "cell_type": "markdown",
   "id": "b52944f0",
   "metadata": {},
   "source": [
<<<<<<< HEAD
    "First, download CVI excel spreadsheet from data_inventory and save it to the /data directory"
=======
    "First, download CVI excel spreadsheet from url: https://climatevulnerabilityindex.org/cvi-data/ and save it to the /data directory"
>>>>>>> 537f4c6... snapshot of CVI data
   ]
  },
  {
   "cell_type": "code",
   "execution_count": null,
   "id": "7a1a47ef",
   "metadata": {},
   "outputs": [],
   "source": [
    "# oad CVI data frame\n",
    "CVI_df = pd.read_excel(\"../Master CVI Dataset - Oct 2023.xlsx\")"
   ]
  },
  {
   "cell_type": "code",
   "execution_count": null,
   "id": "2d1a4cc4",
   "metadata": {},
   "outputs": [
    {
     "data": {
      "text/plain": [
       "<bound method NDFrame.head of       State     County    FIPS Code  Overall CVI Score  Baseline: All  \\\n",
       "0        AL    Autauga   1001020100           0.576917       0.513116   \n",
       "1        AL    Autauga   1001020200           0.596915       0.556438   \n",
       "2        AL    Autauga   1001020300           0.602058       0.570042   \n",
       "3        AL    Autauga   1001020400           0.563530       0.485703   \n",
       "4        AL    Autauga   1001020500           0.567340       0.483049   \n",
       "...     ...        ...          ...                ...            ...   \n",
       "73052    WY   Washakie  56043000200           0.431173       0.381064   \n",
       "73053    WY   Washakie  56043000301           0.392460       0.380542   \n",
       "73054    WY   Washakie  56043000302           0.422436       0.406109   \n",
       "73055    WY     Weston  56045951100           0.487405       0.428767   \n",
       "73056    WY     Weston  56045951300           0.475216       0.417219   \n",
       "\n",
       "       Baseline: Health  Baseline: Social Economic  Baseline: Infrastructure  \\\n",
       "0              0.587969                   0.358101                  0.724892   \n",
       "1              0.640211                   0.465116                  0.708693   \n",
       "2              0.628706                   0.498134                  0.703547   \n",
       "3              0.546426                   0.325342                  0.607588   \n",
       "4              0.437324                   0.424390                  0.615032   \n",
       "...                 ...                        ...                       ...   \n",
       "73052          0.414990                   0.470020                  0.374094   \n",
       "73053          0.424419                   0.467062                  0.450011   \n",
       "73054          0.463148                   0.507464                  0.431891   \n",
       "73055          0.407322                   0.514924                  0.442666   \n",
       "73056          0.424866                   0.502165                  0.415779   \n",
       "\n",
       "       Baseline: Environment  Climate Change: All  Climate Change: Health  \\\n",
       "0                   0.381501             0.661984                0.830940   \n",
       "1                   0.411731             0.650884                0.834133   \n",
       "2                   0.449783             0.644744                0.796535   \n",
       "3                   0.463455             0.667300                0.840690   \n",
       "4                   0.455449             0.679727                0.834594   \n",
       "...                      ...                  ...                     ...   \n",
       "73052               0.265152             0.497985                0.270717   \n",
       "73053               0.180675             0.408351                0.285024   \n",
       "73054               0.221931             0.444205                0.272917   \n",
       "73055               0.350154             0.565589                0.235035   \n",
       "73056               0.326067             0.552546                0.235439   \n",
       "\n",
       "       Climate Change: Social Economic  Climate Change: Extreme Events  \n",
       "0                             0.649362                        0.505651  \n",
       "1                             0.634943                        0.483577  \n",
       "2                             0.650154                        0.487544  \n",
       "3                             0.670403                        0.490806  \n",
       "4                             0.715418                        0.489171  \n",
       "...                                ...                             ...  \n",
       "73052                         0.499289                        0.723949  \n",
       "73053                         0.437030                        0.502998  \n",
       "73054                         0.467292                        0.592408  \n",
       "73055                         0.649251                        0.812480  \n",
       "73056                         0.650428                        0.771770  \n",
       "\n",
       "[73057 rows x 13 columns]>"
      ]
     },
     "execution_count": 7,
     "metadata": {},
     "output_type": "execute_result"
    }
   ],
   "source": [
    "# get snapshot of CVI by looking at head\n",
    "CVI_df.head"
   ]
  },
  {
   "cell_type": "code",
   "execution_count": null,
   "id": "6c2297d0",
   "metadata": {},
   "outputs": [],
   "source": []
  }
 ],
 "metadata": {
  "kernelspec": {
   "display_name": "erdos_ds_environment",
   "language": "python",
   "name": "python3"
  },
  "language_info": {
   "codemirror_mode": {
    "name": "ipython",
    "version": 3
   },
   "file_extension": ".py",
   "mimetype": "text/x-python",
   "name": "python",
   "nbconvert_exporter": "python",
   "pygments_lexer": "ipython3",
   "version": "3.12.11"
  }
 },
 "nbformat": 4,
 "nbformat_minor": 5
}
