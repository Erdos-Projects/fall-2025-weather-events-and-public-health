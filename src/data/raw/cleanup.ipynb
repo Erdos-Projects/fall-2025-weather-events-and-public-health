{
 "cells": [
  {
   "cell_type": "code",
   "execution_count": 3,
   "id": "bbd78f4a1cc3ae75",
   "metadata": {
    "ExecuteTime": {
     "end_time": "2025-10-07T06:12:13.454320Z",
     "start_time": "2025-10-07T06:12:13.450731Z"
    }
   },
   "outputs": [],
   "source": [
    "import pandas as pd"
   ]
  },
  {
   "cell_type": "code",
   "execution_count": 4,
   "id": "initial_id",
   "metadata": {
    "ExecuteTime": {
     "end_time": "2025-10-07T06:12:13.463734Z",
     "start_time": "2025-10-07T06:12:13.459734Z"
    },
    "collapsed": true
   },
   "outputs": [],
   "source": [
    "# Read a file and clean it up\n",
    "def cleanup_csv(file: str) -> pd.DataFrame:\n",
    "    df = pd.read_csv(file)\n",
    "    df = df.rename(columns={\"End Year\": \"Year\"})\n",
    "\n",
    "    # Keep only the most recent year if there are multiple\n",
    "    df = df[df[\"Year\"] == df[\"Year\"].max()]\n",
    "    df = df[[\"County\", \"Value\"]]\n",
    "\n",
    "    return df\n",
    "\n",
    "# Merge with good names for the columns\n",
    "def merge_csv(df: pd.DataFrame, file: str, name: str):\n",
    "    df = pd.merge(df, cleanup_csv(file), how=\"inner\", on=[\"County\"], suffixes=(None, None))\n",
    "    df = df.rename(columns={\"Value\": name})\n",
    "\n",
    "    return df"
   ]
  },
  {
   "cell_type": "code",
   "execution_count": 5,
   "id": "69e3c5327a936a30",
   "metadata": {
    "ExecuteTime": {
     "end_time": "2025-10-07T06:12:13.471401Z",
     "start_time": "2025-10-07T06:12:13.468312Z"
    }
   },
   "outputs": [],
   "source": [
    "# Slightly different work for the Excel sheets\n",
    "def cleanup_xlsx(file: str) -> pd.DataFrame:\n",
    "    df = pd.read_excel(file)\n",
    "\n",
    "    # Drop California aggregate row\n",
    "    df = df.drop([1], axis=0)\n",
    "\n",
    "    df = df[[\"Counties\", \"Age-adjusted rate per 100,000\"]]\n",
    "    df = df.rename(columns={\"Counties\": \"County\"})\n",
    "\n",
    "    return df\n",
    "\n",
    "def merge_xlsx(df: pd.DataFrame, file: str, name: str):\n",
    "    df = pd.merge(df, cleanup_xlsx(file), how=\"left\", on=[\"County\"], suffixes=(None, None))\n",
    "    df = df.rename(columns={\"Age-adjusted rate per 100,000\": name})\n",
    "\n",
    "    return df"
   ]
  },
  {
   "cell_type": "code",
   "execution_count": 6,
   "id": "d4d11c15136ac9b3",
   "metadata": {
    "ExecuteTime": {
     "end_time": "2025-10-07T06:12:13.493641Z",
     "start_time": "2025-10-07T06:12:13.475408Z"
    }
   },
   "outputs": [],
   "source": [
    "# We'll join all the county stats together\n",
    "\n",
    "# Start with the Excel sheets\n",
    "county_stats = cleanup_xlsx(\"../Emergency Department_Visits_Age-adjusted_rate_per_100000_2023_Counties.xlsx\")\n",
    "county_stats = county_stats.rename(columns={\"Age-adjusted rate per 100,000\": \"Emergency Visits / 100000\"})\n",
    "\n",
    "county_stats = merge_xlsx(county_stats, \"../Hospitalizations_Age-adjusted_rate_per_100000_2023_Counties.xlsx\",\n",
    "                                        \"Hospitalizations / 100000\")\n"
   ]
  },
  {
   "cell_type": "code",
   "execution_count": 7,
   "id": "46c63b42c8577e8",
   "metadata": {
    "ExecuteTime": {
     "end_time": "2025-10-07T06:12:13.523982Z",
     "start_time": "2025-10-07T06:12:13.498671Z"
    }
   },
   "outputs": [],
   "source": [
    "# Join the CSVs\n",
    "county_stats = merge_csv(county_stats, \"../Avg_annual_energy_burden_percent_of_income_2018.csv\",    \"Energy Burden % of Income\")\n",
    "county_stats = merge_csv(county_stats, \"../Avg_percent_of_imperviousness_2021.csv\",                 \"Imperviousness\")\n",
    "county_stats = merge_csv(county_stats, \"../Distance_to_parks_half-mile_2010_2015_2020.csv\",         \"Park within 1/2 Mile\")\n",
    "county_stats = merge_csv(county_stats, \"../Hospital_beds_per_10000_population_2020.csv\",            \"Hospital Beds / 10000\")\n",
    "county_stats = merge_csv(county_stats, \"../Housing_built_before_1980.csv\",                          \"Housing Built before 1980\")\n",
    "county_stats = merge_csv(county_stats, \"../Housing_insecurity_2022.csv\",                            \"Housing Insecurity\")\n",
    "county_stats = merge_csv(county_stats, \"../Lack_of_reliable_transportation_2022.csv\",               \"Lack of Reliable Transportation\")\n",
    "county_stats = merge_csv(county_stats, \"../Percent_without_internet_2018-2022.csv\",                 \"% w/o Internet\")\n",
    "county_stats = merge_csv(county_stats, \"../Utility_services_threat_2022.csv\",                       \"Utility Services Threat\")"
   ]
  },
  {
   "cell_type": "code",
   "execution_count": 9,
   "id": "8c2d77dd743f24e5",
   "metadata": {
    "ExecuteTime": {
     "end_time": "2025-10-07T06:12:13.553593Z",
     "start_time": "2025-10-07T06:12:13.528496Z"
    }
   },
   "outputs": [],
   "source": [
    "# Save it\n",
    "county_stats.to_excel(\"../County_Statistics.xlsx\", index=False)"
   ]
  },
  {
   "cell_type": "code",
   "execution_count": null,
   "id": "b74e08e2de73ada1",
   "metadata": {
    "ExecuteTime": {
     "end_time": "2025-10-07T06:12:20.155083Z",
     "start_time": "2025-10-07T06:12:13.558633Z"
    }
   },
   "outputs": [],
   "source": [
    "# Now we will filter the Master CVI dataset\n",
    "CVI_df = pd.read_excel(\"../Master CVI Dataset - Oct 2023.xlsx\")\n",
    "CVI_df = CVI_df[CVI_df.State == \"CA\"]\n",
    "\n",
    "# And attach the Low Food Access data, since it's also organized by census tract\n",
    "low_food_access_df = pd.read_csv(\"../Low_income_Low_Food_Access_by_Census_Tracts_2019_2015.csv\")\n",
    "low_food_access_df = low_food_access_df[low_food_access_df.Year == 2019]\n",
    "low_food_access_df = low_food_access_df[[\"CensusTract\", \"Food Access\"]]\n",
    "\n",
    "CVI_df = pd.merge(CVI_df, low_food_access_df, how=\"left\", left_on=[\"FIPS Code\"], right_on=[\"CensusTract\"])\n",
    "CVI_df = CVI_df.drop([\"State\", \"CensusTract\"], axis=1)\n",
    "1\n",
    "CVI_df.to_excel(\"../California_CVI_dataset.xlsx\", index=False)"
   ]
  },
  {
   "cell_type": "code",
   "execution_count": null,
   "id": "fa11a10e",
   "metadata": {},
   "outputs": [],
   "source": []
  }
 ],
 "metadata": {
  "kernelspec": {
   "display_name": "base",
   "language": "python",
   "name": "python3"
  },
  "language_info": {
   "codemirror_mode": {
    "name": "ipython",
    "version": 3
   },
   "file_extension": ".py",
   "mimetype": "text/x-python",
   "name": "python",
   "nbconvert_exporter": "python",
   "pygments_lexer": "ipython3",
   "version": "3.11.4"
  }
 },
 "nbformat": 4,
 "nbformat_minor": 5
}
