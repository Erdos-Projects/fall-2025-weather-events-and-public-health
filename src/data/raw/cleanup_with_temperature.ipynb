{
 "cells": [
  {
   "cell_type": "code",
   "execution_count": 1,
   "id": "bbd78f4a1cc3ae75",
   "metadata": {
    "ExecuteTime": {
     "end_time": "2025-10-07T06:12:13.454320Z",
     "start_time": "2025-10-07T06:12:13.450731Z"
    }
   },
   "outputs": [],
   "source": [
    "import pandas as pd"
   ]
  },
  {
   "cell_type": "code",
   "execution_count": 2,
   "id": "initial_id",
   "metadata": {
    "ExecuteTime": {
     "end_time": "2025-10-07T06:12:13.463734Z",
     "start_time": "2025-10-07T06:12:13.459734Z"
    },
    "collapsed": true
   },
   "outputs": [],
   "source": [
    "# Read a file and clean it up\n",
    "def cleanup_csv(file: str) -> pd.DataFrame:\n",
    "    df = pd.read_csv(file)\n",
    "    df = df.rename(columns={\"End Year\": \"Year\"})\n",
    "\n",
    "    # Keep only the most recent year if there are multiple\n",
    "    df = df[df[\"Year\"] == df[\"Year\"].max()]\n",
    "    df = df[[\"County\", \"Value\"]]\n",
    "\n",
    "    return df\n",
    "\n",
    "# Merge with good names for the columns\n",
    "def merge_csv(df: pd.DataFrame, file: str, name: str):\n",
    "    df = pd.merge(df, cleanup_csv(file), how=\"inner\", on=[\"County\"], suffixes=(None, None))\n",
    "    df = df.rename(columns={\"Value\": name})\n",
    "\n",
    "    return df"
   ]
  },
  {
   "cell_type": "code",
   "execution_count": 3,
   "id": "189e1359",
   "metadata": {},
   "outputs": [],
   "source": [
    "def merge_temp_month(left_df, csv_path, month, left_on=\"County\", right_on=\"County\"):\n",
    "    right = pd.read_csv(csv_path, usecols=[right_on, month])\n",
    "    right[right_on] = right[right_on].astype(str)\n",
    "    left = left_df.copy()\n",
    "    left[left_on] = left[left_on].astype(str)\n",
    "\n",
    "    left = left.merge(right, how=\"left\", left_on=left_on, right_on=right_on)\n",
    "    return left\n",
    "    "
   ]
  },
  {
   "cell_type": "code",
   "execution_count": 4,
   "id": "69e3c5327a936a30",
   "metadata": {
    "ExecuteTime": {
     "end_time": "2025-10-07T06:12:13.471401Z",
     "start_time": "2025-10-07T06:12:13.468312Z"
    }
   },
   "outputs": [],
   "source": [
    "# Slightly different work for the Excel sheets\n",
    "def cleanup_xlsx(file: str) -> pd.DataFrame:\n",
    "    df = pd.read_excel(file)\n",
    "\n",
    "    # Drop California aggregate row\n",
    "    # New way of doing it fixes issue that dropped Alameda \n",
    "    if 'County' in df.columns:\n",
    "        df = df[df['County']=='California']\n",
    "\n",
    "    df = df[[\"Counties\", \"Age-adjusted rate per 100,000\"]]\n",
    "    df = df.rename(columns={\"Counties\": \"County\"})\n",
    "\n",
    "    return df\n",
    "\n",
    "def merge_xlsx(df: pd.DataFrame, file: str, name: str):\n",
    "    df = pd.merge(df, cleanup_xlsx(file), how=\"left\", on=[\"County\"], suffixes=(None, None))\n",
    "    df = df.rename(columns={\"Age-adjusted rate per 100,000\": name})\n",
    "\n",
    "    return df"
   ]
  },
  {
   "cell_type": "code",
   "execution_count": 5,
   "id": "9872b865",
   "metadata": {},
   "outputs": [],
   "source": [
    "# Read a file and clean it up\n",
    "#Link to NOAA data https://www.ncei.noaa.gov/pub/data/cirs/climdiv/\n",
    "\n",
    "#returns df, all data in the file\n",
    "#also returns cal, only California data\n",
    "def cleanup_NOAA_txt(file: str) -> pd.DataFrame:\n",
    "    col_names = [\"County Data\", \"Jan\", \"Feb\", \"Mar\", \"Apr\", \"May\", \"Jun\",\n",
    "             \"Jul\", \"Aug\", \"Sep\", \"Oct\", \"Nov\", \"Dec\"]\n",
    "    \n",
    "    #County Data interpretation: https://www.ncei.noaa.gov/pub/data/cirs/climdiv/county-readme.txt\n",
    "    df = pd.read_csv(file, delim_whitespace=True, names = col_names,dtype={\"County Data\": str})\n",
    "    df[\"State Code\"] = df[\"County Data\"].str[:2]\n",
    "    df[\"FIPS\"]= df [\"County Data\"].str[2:5]\n",
    "    df[\"Year\"]= df[\"County Data\"].str[-4:]\n",
    "\n",
    "    #State code \"04\" is California\n",
    "    cal = df[df[\"State Code\"]==\"04\"]\n",
    "    cal = cal.drop(columns=['County Data', 'State Code']) \n",
    "\n",
    "    return df, cal\n"
   ]
  },
  {
   "cell_type": "code",
   "execution_count": 6,
   "id": "e9424dfd",
   "metadata": {},
   "outputs": [],
   "source": [
    "#Map of all california counties and their FIPS codes\n",
    "CA_COUNTY_FIPS = {\n",
    "    \"001\": \"Alameda\", \"003\": \"Alpine\", \"005\": \"Amador\", \"007\": \"Butte\", \"009\": \"Calaveras\",\n",
    "    \"011\": \"Colusa\", \"013\": \"Contra Costa\", \"015\": \"Del Norte\", \"017\": \"El Dorado\", \"019\": \"Fresno\",\n",
    "    \"021\": \"Glenn\", \"023\": \"Humboldt\", \"025\": \"Imperial\", \"027\": \"Inyo\", \"029\": \"Kern\",\n",
    "    \"031\": \"Kings\", \"033\": \"Lake\", \"035\": \"Lassen\", \"037\": \"Los Angeles\", \"039\": \"Madera\",\n",
    "    \"041\": \"Marin\", \"043\": \"Mariposa\", \"045\": \"Mendocino\", \"047\": \"Merced\", \"049\": \"Modoc\",\n",
    "    \"051\": \"Mono\", \"053\": \"Monterey\", \"055\": \"Napa\", \"057\": \"Nevada\", \"059\": \"Orange\",\n",
    "    \"061\": \"Placer\", \"063\": \"Plumas\", \"065\": \"Riverside\", \"067\": \"Sacramento\", \"069\": \"San Benito\",\n",
    "    \"071\": \"San Bernardino\", \"073\": \"San Diego\", \"075\": \"San Francisco\", \"077\": \"San Joaquin\",\n",
    "    \"079\": \"San Luis Obispo\", \"081\": \"San Mateo\", \"083\": \"Santa Barbara\", \"085\": \"Santa Clara\",\n",
    "    \"087\": \"Santa Cruz\", \"089\": \"Shasta\", \"091\": \"Sierra\", \"093\": \"Siskiyou\", \"095\": \"Solano\",\n",
    "    \"097\": \"Sonoma\", \"099\": \"Stanislaus\", \"101\": \"Sutter\", \"103\": \"Tehama\", \"105\": \"Trinity\",\n",
    "    \"107\": \"Tulare\", \"109\": \"Tuolumne\", \"111\": \"Ventura\", \"113\": \"Yolo\", \"115\": \"Yuba\",\n",
    "}\n",
    "#takes in dataframe with FIPS \n",
    "#If column \"County\" exists, returns df \n",
    "#Else, adds new column with county name \n",
    "def addCountyName(df: pd.DataFrame) -> pd.DataFrame:\n",
    "    if \"County\" in df.columns:\n",
    "        return df\n",
    "    s = df[\"FIPS\"].str.strip().str.zfill(3)\n",
    "    df[\"County\"] = s.map(CA_COUNTY_FIPS)\n",
    "    return df\n",
    "        "
   ]
  },
  {
   "cell_type": "code",
   "execution_count": 7,
   "id": "d4d11c15136ac9b3",
   "metadata": {
    "ExecuteTime": {
     "end_time": "2025-10-07T06:12:13.493641Z",
     "start_time": "2025-10-07T06:12:13.475408Z"
    }
   },
   "outputs": [],
   "source": [
    "# We'll join all the county stats together\n",
    "\n",
    "# Start with the Excel sheets\n",
    "county_stats = cleanup_xlsx(\"../Emergency Department_Visits_Age-adjusted_rate_per_100000_2023_Counties.xlsx\")\n",
    "county_stats = county_stats.rename(columns={\"Age-adjusted rate per 100,000\": \"Emergency Visits / 100000\"})\n",
    "\n",
    "county_stats = merge_xlsx(county_stats, \"../Hospitalizations_Age-adjusted_rate_per_100000_2023_Counties.xlsx\",\n",
    "                                        \"Hospitalizations / 100000\")\n"
   ]
  },
  {
   "cell_type": "code",
   "execution_count": 8,
   "id": "4cca3bf0",
   "metadata": {},
   "outputs": [],
   "source": [
    "#Creates max temp and Cooling Degree Days (CDD) dataframes for each year (1895-2015)\n",
    "maxTempUS, maxTempCA = cleanup_NOAA_txt(\"../climdiv-tmaxcy-v1.0.0-20250905.txt\")\n",
    "cddUS, cddCA = cleanup_NOAA_txt(\"../climdiv-cddccy-v1.0.0-20250905.txt\")\n",
    "\n",
    "#Chose to drop months, based on a CDC manuscript doing the same when studying heat related illness\n",
    "#Vaidyanathan A, Gates A, Brown C, Prezzato E, Bernstein A. Heat-Related Emergency Department Visits\n",
    "#— United States, May–September 2023. MMWR Morb Mortal Wkly Rep 2024;73:324–329. \n",
    "#DOI: http://dx.doi.org/10.15585/mmwr.mm7315a1\n",
    "months_to_drop = [\"Jan\", \"Feb\", \"Mar\", \"Apr\",\"Oct\", \"Nov\", \"Dec\"]\n",
    "maxTempSuCA = maxTempCA.drop(columns=months_to_drop)\n",
    "cddSuCA = cddCA.drop(columns=months_to_drop)\n",
    "\n",
    "\n",
    "#Dataset for 2023 CA max Temp and CDD \n",
    "#Align with 2023 heat illness data we have \n",
    "maxTempSu2023CA = maxTempSuCA[maxTempCA[\"Year\"]==\"2023\"]\n",
    "maxTempSu2023CA = maxTempSu2023CA.drop(columns=['Year'])\n",
    "cddSu2023CA = cddSuCA[cddSuCA[\"Year\"]==\"2023\"]\n",
    "cddSu2023CA = cddSu2023CA.drop(columns=['Year'])\n",
    "\n",
    "#Adds county names \n",
    "maxTempSu2023CACounty = addCountyName(maxTempSu2023CA)\n",
    "cddSu2023CACounty = addCountyName(cddSu2023CA)\n",
    "maxTempSu2023CACounty.to_csv('../maxTempSu2023CACounty.csv', index=False) \n",
    "cddSu2023CACounty.to_csv('../cddSu2023CACounty.csv', index=False) "
   ]
  },
  {
   "cell_type": "code",
   "execution_count": 9,
   "id": "46c63b42c8577e8",
   "metadata": {
    "ExecuteTime": {
     "end_time": "2025-10-07T06:12:13.523982Z",
     "start_time": "2025-10-07T06:12:13.498671Z"
    }
   },
   "outputs": [],
   "source": [
    "# Join the CSVs\n",
    "county_stats = merge_csv(county_stats, \"../Avg_annual_energy_burden_percent_of_income_2018.csv\",    \"Energy Burden % of Income\")\n",
    "county_stats = merge_csv(county_stats, \"../Avg_percent_of_imperviousness_2021.csv\",                 \"Imperviousness\")\n",
    "county_stats = merge_csv(county_stats, \"../Distance_to_parks_half-mile_2010_2015_2020.csv\",         \"Park within 1/2 Mile\")\n",
    "county_stats = merge_csv(county_stats, \"../Hospital_beds_per_10000_population_2020.csv\",            \"Hospital Beds / 10000\")\n",
    "county_stats = merge_csv(county_stats, \"../Housing_built_before_1980.csv\",                          \"Housing Built before 1980\")\n",
    "county_stats = merge_csv(county_stats, \"../Housing_insecurity_2022.csv\",                            \"Housing Insecurity\")\n",
    "county_stats = merge_csv(county_stats, \"../Lack_of_reliable_transportation_2022.csv\",               \"Lack of Reliable Transportation\")\n",
    "county_stats = merge_csv(county_stats, \"../Percent_without_internet_2018-2022.csv\",                 \"% w/o Internet\")\n",
    "county_stats = merge_csv(county_stats, \"../Utility_services_threat_2022.csv\",                       \"Utility Services Threat\")\n",
    "county_stats = merge_temp_month(county_stats, \"../maxTempSu2023CACounty.csv\",                       \"Jul\")\n",
    "county_stats = county_stats.rename(columns={\"Jul\": \"July max temp (F)\"})\n",
    "county_stats = merge_temp_month(county_stats, \"../maxTempSu2023CACounty.csv\",                       \"Aug\")\n",
    "county_stats = county_stats.rename(columns={\"Aug\": \"August max temp (F)\"})\n",
    "county_stats = merge_temp_month(county_stats, \"../cddSu2023CACounty.csv\",                       \"Jul\")\n",
    "county_stats = county_stats.rename(columns={\"Jul\": \"July CDD\"})\n",
    "county_stats = merge_temp_month(county_stats, \"../cddSu2023CACounty.csv\",                       \"Aug\")\n",
    "county_stats = county_stats.rename(columns={\"Aug\": \"August CDD\"})\n",
    "\n"
   ]
  },
  {
   "cell_type": "code",
   "execution_count": 10,
   "id": "8c2d77dd743f24e5",
   "metadata": {
    "ExecuteTime": {
     "end_time": "2025-10-07T06:12:13.553593Z",
     "start_time": "2025-10-07T06:12:13.528496Z"
    }
   },
   "outputs": [],
   "source": [
    "# Save it\n",
    "county_stats.to_excel(\"../County_Statistics_withTemp.xlsx\", index=False)"
   ]
  },
  {
   "cell_type": "code",
   "execution_count": 11,
   "id": "b74e08e2de73ada1",
   "metadata": {
    "ExecuteTime": {
     "end_time": "2025-10-07T06:12:20.155083Z",
     "start_time": "2025-10-07T06:12:13.558633Z"
    }
   },
   "outputs": [],
   "source": [
    "# Now we will filter the Master CVI dataset\n",
    "CVI_df = pd.read_excel(\"../Master CVI Dataset - Oct 2023.xlsx\")\n",
    "CVI_df = CVI_df[CVI_df.State == \"CA\"]\n",
    "\n",
    "# And attach the Low Food Access data, since it's also organized by census tract\n",
    "low_food_access_df = pd.read_csv(\"../Low_income_Low_Food_Access_by_Census_Tracts_2019_2015.csv\")\n",
    "low_food_access_df = low_food_access_df[low_food_access_df.Year == 2019]\n",
    "low_food_access_df = low_food_access_df[[\"CensusTract\", \"Food Access\"]]\n",
    "\n",
    "CVI_df = pd.merge(CVI_df, low_food_access_df, how=\"left\", left_on=[\"FIPS Code\"], right_on=[\"CensusTract\"])\n",
    "CVI_df = CVI_df.drop([\"State\", \"CensusTract\"], axis=1)\n",
    "\n",
    "CVI_df.to_excel(\"../California_CVI_dataset.xlsx\", index=False)"
   ]
  },
  {
   "cell_type": "code",
   "execution_count": null,
   "id": "fa11a10e",
   "metadata": {},
   "outputs": [],
   "source": []
  }
 ],
 "metadata": {
  "kernelspec": {
   "display_name": "base",
   "language": "python",
   "name": "python3"
  },
  "language_info": {
   "codemirror_mode": {
    "name": "ipython",
    "version": 3
   },
   "file_extension": ".py",
   "mimetype": "text/x-python",
   "name": "python",
   "nbconvert_exporter": "python",
   "pygments_lexer": "ipython3",
   "version": "3.11.4"
  }
 },
 "nbformat": 4,
 "nbformat_minor": 5
}
