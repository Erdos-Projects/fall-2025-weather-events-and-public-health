{
 "cells": [
  {
   "cell_type": "code",
   "execution_count": 2,
   "id": "82377a57",
   "metadata": {},
   "outputs": [],
   "source": [
    "import pandas as pd "
   ]
  },
  {
   "cell_type": "code",
   "execution_count": 3,
   "id": "7887395a",
   "metadata": {},
   "outputs": [],
   "source": [
    "# Read a file and clean it up\n",
    "#Link to NOAA data https://www.ncei.noaa.gov/pub/data/cirs/climdiv/\n",
    "\n",
    "#returns df, all data in the file\n",
    "#also returns cal, only California data\n",
    "def cleanup_NOAA_txt(file: str) -> pd.DataFrame:\n",
    "    col_names = [\"County Data\", \"Jan\", \"Feb\", \"Mar\", \"Apr\", \"May\", \"Jun\",\n",
    "             \"Jul\", \"Aug\", \"Sep\", \"Oct\", \"Nov\", \"Dec\"]\n",
    "    \n",
    "    #County Data interpretation: https://www.ncei.noaa.gov/pub/data/cirs/climdiv/county-readme.txt\n",
    "    df = pd.read_csv(file, delim_whitespace=True, names = col_names,dtype={\"County Data\": str})\n",
    "    df[\"State Code\"] = df[\"County Data\"].str[:2]\n",
    "    df[\"FIPS\"]= df [\"County Data\"].str[2:5]\n",
    "    df[\"Year\"]= df[\"County Data\"].str[-4:]\n",
    "\n",
    "    #State code \"04\" is California\n",
    "    cal = df[df[\"State Code\"]==\"04\"]\n",
    "    cal = cal.drop(columns=['County Data', 'State Code']) \n",
    "\n",
    "    return df, cal\n"
   ]
  },
  {
   "cell_type": "code",
   "execution_count": 10,
   "id": "bd32d989",
   "metadata": {},
   "outputs": [],
   "source": [
    "#Creates max temp and Cooling Degree Days (CDD) dataframes for each year (1895-2015)\n",
    "maxTempUS, maxTempCA = cleanup_NOAA_txt(\"../climdiv-tmaxcy-v1.0.0-20250905.txt\")\n",
    "cddUS, cddCA = cleanup_NOAA_txt(\"../climdiv-cddccy-v1.0.0-20250905.txt\")\n",
    "\n",
    "#Chose to drop months, based on a CDC manuscript doing the same when studying heat related illness\n",
    "#Vaidyanathan A, Gates A, Brown C, Prezzato E, Bernstein A. Heat-Related Emergency Department Visits\n",
    "#— United States, May–September 2023. MMWR Morb Mortal Wkly Rep 2024;73:324–329. \n",
    "#DOI: http://dx.doi.org/10.15585/mmwr.mm7315a1\n",
    "months_to_drop = [\"Jan\", \"Feb\", \"Mar\", \"Apr\",\"Oct\", \"Nov\", \"Dec\"]\n",
    "maxTempSuCA = maxTempCA.drop(columns=months_to_drop)\n",
    "cddSuCA = cddCA.drop(columns=months_to_drop)"
   ]
  },
  {
   "cell_type": "code",
   "execution_count": 9,
   "id": "ee1fd5ed",
   "metadata": {},
   "outputs": [],
   "source": [
    "#Creates max temp and CDD dataframes, averaged over decade periods (Norm) \n",
    "#https://www.ncei.noaa.gov/pub/data/cirs/climdiv/normals-readme.txt\n",
    "\n",
    "# 0001  means 1901-1930\n",
    "# 0002  means 1911-1940\n",
    "# 0003  means 1921-1950\n",
    "# 0004  means 1931-1960\n",
    "# 0005  means 1941-1970\n",
    "# 0006  means 1951-1980\n",
    "# 0007  means 1961-1990\n",
    "# 0008  means 1971-2000\n",
    "# 0009  means 1981-2010\n",
    "# 0010  means 1991-2020\n",
    "# 0031  means 1901-2000\n",
    "# 0032  means 1895-2020\n",
    "\n",
    "maxNormTempUS, maxNormTempCA = cleanup_NOAA_txt(\"../climdiv-norm-tmaxcy-v1.0.0-20250905.txt\")\n",
    "cddNormUS, cddNormCA = cleanup_NOAA_txt(\"../climdiv-norm-cddccy-v1.0.0-20250905.txt\")\n",
    "maxNormTempSuCA = maxNormTempCA.drop(columns=months_to_drop)\n",
    "\n",
    "#Drop cooler months, DOI: http://dx.doi.org/10.15585/mmwr.mm7315a1\n",
    "months_to_drop = [\"Jan\", \"Feb\", \"Mar\", \"Apr\",\"Oct\", \"Nov\", \"Dec\"]\n",
    "maxNormTempSuCA = maxNormTempCA.drop(columns=months_to_drop)"
   ]
  },
  {
   "cell_type": "code",
   "execution_count": 14,
   "id": "c898e657",
   "metadata": {},
   "outputs": [],
   "source": [
    "#Dataset for 2023 CA max Temp and CDD \n",
    "#Align with 2023 heat illness data we have \n",
    "maxTempSu2023CA = maxTempSuCA[maxTempCA[\"Year\"]==\"2023\"]\n",
    "maxTempSu2023CA = maxTempSu2023CA.drop(columns=['Year'])\n",
    "cddSu2023CA = cddSuCA[cddSuCA[\"Year\"]==\"2023\"]\n",
    "cddSu2023CA = cddSu2023CA.drop(columns=['Year'])\n"
   ]
  },
  {
   "cell_type": "code",
   "execution_count": 19,
   "id": "20b6998d",
   "metadata": {},
   "outputs": [
    {
     "data": {
      "text/html": [
       "<div>\n",
       "<style scoped>\n",
       "    .dataframe tbody tr th:only-of-type {\n",
       "        vertical-align: middle;\n",
       "    }\n",
       "\n",
       "    .dataframe tbody tr th {\n",
       "        vertical-align: top;\n",
       "    }\n",
       "\n",
       "    .dataframe thead th {\n",
       "        text-align: right;\n",
       "    }\n",
       "</style>\n",
       "<table border=\"1\" class=\"dataframe\">\n",
       "  <thead>\n",
       "    <tr style=\"text-align: right;\">\n",
       "      <th></th>\n",
       "      <th>May</th>\n",
       "      <th>Jun</th>\n",
       "      <th>Jul</th>\n",
       "      <th>Aug</th>\n",
       "      <th>Sep</th>\n",
       "      <th>FIPS</th>\n",
       "    </tr>\n",
       "  </thead>\n",
       "  <tbody>\n",
       "    <tr>\n",
       "      <th>22136</th>\n",
       "      <td>0.0</td>\n",
       "      <td>15.0</td>\n",
       "      <td>126.0</td>\n",
       "      <td>172.0</td>\n",
       "      <td>26.0</td>\n",
       "      <td>023</td>\n",
       "    </tr>\n",
       "    <tr>\n",
       "      <th>27245</th>\n",
       "      <td>140.0</td>\n",
       "      <td>255.0</td>\n",
       "      <td>509.0</td>\n",
       "      <td>477.0</td>\n",
       "      <td>226.0</td>\n",
       "      <td>101</td>\n",
       "    </tr>\n",
       "    <tr>\n",
       "      <th>27769</th>\n",
       "      <td>7.0</td>\n",
       "      <td>14.0</td>\n",
       "      <td>192.0</td>\n",
       "      <td>106.0</td>\n",
       "      <td>18.0</td>\n",
       "      <td>109</td>\n",
       "    </tr>\n",
       "  </tbody>\n",
       "</table>\n",
       "</div>"
      ],
      "text/plain": [
       "         May    Jun    Jul    Aug    Sep FIPS\n",
       "22136    0.0   15.0  126.0  172.0   26.0  023\n",
       "27245  140.0  255.0  509.0  477.0  226.0  101\n",
       "27769    7.0   14.0  192.0  106.0   18.0  109"
      ]
     },
     "execution_count": 19,
     "metadata": {},
     "output_type": "execute_result"
    }
   ],
   "source": [
    "cddSu2023CA.sample(3)"
   ]
  },
  {
   "cell_type": "code",
   "execution_count": 20,
   "id": "bd765e50",
   "metadata": {},
   "outputs": [
    {
     "name": "stdout",
     "output_type": "stream",
     "text": [
      "003    576\n",
      "005    576\n",
      "001    564\n",
      "009    564\n",
      "007    552\n",
      "      ... \n",
      "383     12\n",
      "381     12\n",
      "379     12\n",
      "377     12\n",
      "078     12\n",
      "Name: FIPS, Length: 301, dtype: int64\n",
      "12\n",
      "58\n"
     ]
    }
   ],
   "source": [
    "unique_categories = cddNormUS['FIPS'].value_counts()\n",
    "print(unique_categories)\n",
    "\n",
    "numYears = cddNormUS['Year'].nunique()\n",
    "print(numYears)\n",
    "print(len(cddSu2023CA))"
   ]
  },
  {
   "cell_type": "code",
   "execution_count": null,
   "id": "32041493",
   "metadata": {},
   "outputs": [],
   "source": []
  },
  {
   "cell_type": "code",
   "execution_count": null,
   "id": "63ce4482",
   "metadata": {},
   "outputs": [],
   "source": []
  }
 ],
 "metadata": {
  "kernelspec": {
   "display_name": "base",
   "language": "python",
   "name": "python3"
  },
  "language_info": {
   "codemirror_mode": {
    "name": "ipython",
    "version": 3
   },
   "file_extension": ".py",
   "mimetype": "text/x-python",
   "name": "python",
   "nbconvert_exporter": "python",
   "pygments_lexer": "ipython3",
   "version": "3.11.4"
  }
 },
 "nbformat": 4,
 "nbformat_minor": 5
}
