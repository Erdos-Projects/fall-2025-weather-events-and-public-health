{
 "cells": [
  {
   "cell_type": "code",
   "execution_count": 1,
   "id": "d3651f04",
   "metadata": {},
   "outputs": [],
   "source": [
    "import pandas as pd\n",
    "import numpy as np\n",
    "import matplotlib.pyplot as plt\n",
    "import plotly.express as px\n",
    "import seaborn as sns\n",
    "\n",
    "sns.set_style(\"whitegrid\")"
   ]
  },
  {
   "cell_type": "code",
   "execution_count": 2,
   "id": "e5d628f2",
   "metadata": {},
   "outputs": [
    {
     "name": "stdout",
     "output_type": "stream",
     "text": [
      "<class 'pandas.core.frame.DataFrame'>\n",
      "RangeIndex: 57 entries, 0 to 56\n",
      "Data columns (total 12 columns):\n",
      " #   Column                           Non-Null Count  Dtype  \n",
      "---  ------                           --------------  -----  \n",
      " 0   County                           57 non-null     object \n",
      " 1   Emergency Visits / 100000        42 non-null     float64\n",
      " 2   Hospitalizations / 100000        19 non-null     float64\n",
      " 3   Energy Burden % of Income        57 non-null     object \n",
      " 4   Imperviousness                   57 non-null     object \n",
      " 5   Park within 1/2 Mile             57 non-null     object \n",
      " 6   Hospital Beds / 10000            57 non-null     object \n",
      " 7   Housing Built before 1980        57 non-null     object \n",
      " 8   Housing Insecurity               57 non-null     object \n",
      " 9   Lack of Reliable Transportation  57 non-null     object \n",
      " 10  % w/o Internet                   57 non-null     object \n",
      " 11  Utility Services Threat          57 non-null     object \n",
      "dtypes: float64(2), object(10)\n",
      "memory usage: 5.5+ KB\n"
     ]
    }
   ],
   "source": [
    "county_df = pd.read_excel(\"data/County_Statistics.xlsx\")\n",
    "county_df.info()"
   ]
  },
  {
   "cell_type": "markdown",
   "id": "8f7ae0d0",
   "metadata": {},
   "source": [
    "Missing values in Emergency visits and Hospitalizations. Let's drop hospitalizations since there are so many missing values. Only drop county data that have empty Emergency visit values."
   ]
  },
  {
   "cell_type": "markdown",
   "id": "619e458c",
   "metadata": {},
   "source": [
    "#### Cleaning"
   ]
  },
  {
   "cell_type": "code",
   "execution_count": 3,
   "id": "056ccb01",
   "metadata": {},
   "outputs": [
    {
     "data": {
      "text/html": [
       "<div>\n",
       "<style scoped>\n",
       "    .dataframe tbody tr th:only-of-type {\n",
       "        vertical-align: middle;\n",
       "    }\n",
       "\n",
       "    .dataframe tbody tr th {\n",
       "        vertical-align: top;\n",
       "    }\n",
       "\n",
       "    .dataframe thead th {\n",
       "        text-align: right;\n",
       "    }\n",
       "</style>\n",
       "<table border=\"1\" class=\"dataframe\">\n",
       "  <thead>\n",
       "    <tr style=\"text-align: right;\">\n",
       "      <th></th>\n",
       "      <th>Emergency Visits / 100000</th>\n",
       "      <th>Energy Burden % of Income</th>\n",
       "      <th>Imperviousness</th>\n",
       "      <th>Park within 1/2 Mile</th>\n",
       "      <th>Hospital Beds / 10000</th>\n",
       "      <th>Housing Built before 1980</th>\n",
       "      <th>Housing Insecurity</th>\n",
       "      <th>Lack of Reliable Transportation</th>\n",
       "      <th>% w/o Internet</th>\n",
       "      <th>Utility Services Threat</th>\n",
       "    </tr>\n",
       "  </thead>\n",
       "  <tbody>\n",
       "    <tr>\n",
       "      <th>2</th>\n",
       "      <td>43.53</td>\n",
       "      <td>3.2%</td>\n",
       "      <td>2.0%</td>\n",
       "      <td>62.6%</td>\n",
       "      <td>22.42</td>\n",
       "      <td>52.83%</td>\n",
       "      <td>12.2%</td>\n",
       "      <td>8.5%</td>\n",
       "      <td>7.9%</td>\n",
       "      <td>6.9%</td>\n",
       "    </tr>\n",
       "    <tr>\n",
       "      <th>5</th>\n",
       "      <td>13.06</td>\n",
       "      <td>1.5%</td>\n",
       "      <td>15.1%</td>\n",
       "      <td>80.6%</td>\n",
       "      <td>14.55</td>\n",
       "      <td>55.52%</td>\n",
       "      <td>12.5%</td>\n",
       "      <td>8.2%</td>\n",
       "      <td>3.8%</td>\n",
       "      <td>6.3%</td>\n",
       "    </tr>\n",
       "    <tr>\n",
       "      <th>7</th>\n",
       "      <td>17.31</td>\n",
       "      <td>2.7%</td>\n",
       "      <td>1.3%</td>\n",
       "      <td>71.8%</td>\n",
       "      <td>9.94</td>\n",
       "      <td>45.23%</td>\n",
       "      <td>10.3%</td>\n",
       "      <td>7.1%</td>\n",
       "      <td>6.8%</td>\n",
       "      <td>5.6%</td>\n",
       "    </tr>\n",
       "    <tr>\n",
       "      <th>8</th>\n",
       "      <td>28.84</td>\n",
       "      <td>3.0%</td>\n",
       "      <td>2.5%</td>\n",
       "      <td>69.6%</td>\n",
       "      <td>18.85</td>\n",
       "      <td>50.92%</td>\n",
       "      <td>20.0%</td>\n",
       "      <td>13.0%</td>\n",
       "      <td>11.4%</td>\n",
       "      <td>10.3%</td>\n",
       "    </tr>\n",
       "    <tr>\n",
       "      <th>9</th>\n",
       "      <td>47.49</td>\n",
       "      <td>3.6%</td>\n",
       "      <td>1.0%</td>\n",
       "      <td>37.8%</td>\n",
       "      <td>16.27</td>\n",
       "      <td>58.14%</td>\n",
       "      <td>18.3%</td>\n",
       "      <td>12.1%</td>\n",
       "      <td>12.8%</td>\n",
       "      <td>9.5%</td>\n",
       "    </tr>\n",
       "  </tbody>\n",
       "</table>\n",
       "</div>"
      ],
      "text/plain": [
       "   Emergency Visits / 100000 Energy Burden % of Income Imperviousness  \\\n",
       "2                      43.53                      3.2%           2.0%   \n",
       "5                      13.06                      1.5%          15.1%   \n",
       "7                      17.31                      2.7%           1.3%   \n",
       "8                      28.84                      3.0%           2.5%   \n",
       "9                      47.49                      3.6%           1.0%   \n",
       "\n",
       "  Park within 1/2 Mile Hospital Beds / 10000 Housing Built before 1980  \\\n",
       "2                62.6%                 22.42                    52.83%   \n",
       "5                80.6%                 14.55                    55.52%   \n",
       "7                71.8%                  9.94                    45.23%   \n",
       "8                69.6%                 18.85                    50.92%   \n",
       "9                37.8%                 16.27                    58.14%   \n",
       "\n",
       "  Housing Insecurity Lack of Reliable Transportation % w/o Internet  \\\n",
       "2              12.2%                            8.5%           7.9%   \n",
       "5              12.5%                            8.2%           3.8%   \n",
       "7              10.3%                            7.1%           6.8%   \n",
       "8              20.0%                           13.0%          11.4%   \n",
       "9              18.3%                           12.1%          12.8%   \n",
       "\n",
       "  Utility Services Threat  \n",
       "2                    6.9%  \n",
       "5                    6.3%  \n",
       "7                    5.6%  \n",
       "8                   10.3%  \n",
       "9                    9.5%  "
      ]
     },
     "execution_count": 3,
     "metadata": {},
     "output_type": "execute_result"
    }
   ],
   "source": [
    "#dropping hospitalization\n",
    "county_df = county_df.drop('Hospitalizations / 100000', axis=1)\n",
    "county_df = county_df.drop('County', axis=1)\n",
    "#drop na to drop rows with empty values for emergency visits\n",
    "#our target is emergency visits for this analysis\n",
    "\n",
    "county_df = county_df.dropna()\n",
    "county_df.head()\n"
   ]
  },
  {
   "cell_type": "markdown",
   "id": "5ff65488",
   "metadata": {},
   "source": [
    "Need to convert all features into floats from % objects"
   ]
  },
  {
   "cell_type": "code",
   "execution_count": null,
   "id": "f99d2a0a",
   "metadata": {},
   "outputs": [
    {
     "name": "stdout",
     "output_type": "stream",
     "text": [
      "<class 'pandas.core.frame.DataFrame'>\n",
      "Index: 42 entries, 2 to 56\n",
      "Data columns (total 10 columns):\n",
      " #   Column                           Non-Null Count  Dtype  \n",
      "---  ------                           --------------  -----  \n",
      " 0   Emergency Visits / 100000        42 non-null     float64\n",
      " 1   Energy Burden % of Income        42 non-null     float64\n",
      " 2   Imperviousness                   42 non-null     float64\n",
      " 3   Park within 1/2 Mile             42 non-null     float64\n",
      " 4   Hospital Beds / 10000            42 non-null     float64\n",
      " 5   Housing Built before 1980        42 non-null     float64\n",
      " 6   Housing Insecurity               42 non-null     float64\n",
      " 7   Lack of Reliable Transportation  42 non-null     float64\n",
      " 8   % w/o Internet                   42 non-null     float64\n",
      " 9   Utility Services Threat          42 non-null     float64\n",
      "dtypes: float64(10)\n",
      "memory usage: 3.6 KB\n"
     ]
    }
   ],
   "source": [
    "#remove all instances of '%'\n",
    "county_df['Park within 1/2 Mile'] = county_df['Park within 1/2 Mile'].str.removesuffix('%')\n",
    "county_df['Imperviousness'] = county_df['Imperviousness'].str.removesuffix('%')\n",
    "county_df['Energy Burden % of Income'] = county_df['Energy Burden % of Income'].str.removesuffix('%')\n",
    "county_df['Housing Built before 1980'] = county_df['Housing Built before 1980'].str.removesuffix('%')\n",
    "county_df['Housing Insecurity'] = county_df['Housing Insecurity'].str.removesuffix('%')\n",
    "county_df['Lack of Reliable Transportation'] = county_df['Lack of Reliable Transportation'].str.removesuffix('%')\n",
    "county_df['% w/o Internet'] = county_df['% w/o Internet'].str.removesuffix('%')\n",
    "county_df['Utility Services Threat'] = county_df['Utility Services Threat'].str.removesuffix('%')\n",
    "\n",
    "#convert to float\n",
    "county_df['Park within 1/2 Mile'] = county_df['Park within 1/2 Mile'].astype(float)\n",
    "county_df['Imperviousness'] = county_df['Imperviousness'].astype(float)\n",
    "county_df['Energy Burden % of Income'] = county_df['Energy Burden % of Income'].astype(float)\n",
    "county_df['Hospital Beds / 10000'] = county_df['Hospital Beds / 10000'].astype(float)\n",
    "county_df['Housing Built before 1980'] = county_df['Housing Built before 1980'].astype(float)\n",
    "county_df['Housing Insecurity'] = county_df['Housing Insecurity'].astype(float)\n",
    "county_df['Lack of Reliable Transportation'] = county_df['Lack of Reliable Transportation'].astype(float)\n",
    "county_df['% w/o Internet'] = county_df['% w/o Internet'].astype(float)\n",
    "county_df['Utility Services Threat'] = county_df['Utility Services Threat'].astype(float)\n",
    "\n",
    "\n",
    "county_df.info()"
   ]
  },
  {
   "cell_type": "code",
   "execution_count": 5,
   "id": "a85d8876",
   "metadata": {},
   "outputs": [
    {
     "data": {
      "text/html": [
       "<div>\n",
       "<style scoped>\n",
       "    .dataframe tbody tr th:only-of-type {\n",
       "        vertical-align: middle;\n",
       "    }\n",
       "\n",
       "    .dataframe tbody tr th {\n",
       "        vertical-align: top;\n",
       "    }\n",
       "\n",
       "    .dataframe thead th {\n",
       "        text-align: right;\n",
       "    }\n",
       "</style>\n",
       "<table border=\"1\" class=\"dataframe\">\n",
       "  <thead>\n",
       "    <tr style=\"text-align: right;\">\n",
       "      <th></th>\n",
       "      <th>Emergency Visits / 100000</th>\n",
       "      <th>Energy Burden % of Income</th>\n",
       "      <th>Imperviousness</th>\n",
       "      <th>Park within 1/2 Mile</th>\n",
       "      <th>Hospital Beds / 10000</th>\n",
       "      <th>Housing Built before 1980</th>\n",
       "      <th>Housing Insecurity</th>\n",
       "      <th>Lack of Reliable Transportation</th>\n",
       "      <th>% w/o Internet</th>\n",
       "      <th>Utility Services Threat</th>\n",
       "    </tr>\n",
       "  </thead>\n",
       "  <tbody>\n",
       "    <tr>\n",
       "      <th>count</th>\n",
       "      <td>42.000000</td>\n",
       "      <td>42.000000</td>\n",
       "      <td>42.000000</td>\n",
       "      <td>42.000000</td>\n",
       "      <td>42.000000</td>\n",
       "      <td>42.000000</td>\n",
       "      <td>42.000000</td>\n",
       "      <td>42.000000</td>\n",
       "      <td>42.000000</td>\n",
       "      <td>42.000000</td>\n",
       "    </tr>\n",
       "    <tr>\n",
       "      <th>mean</th>\n",
       "      <td>23.615476</td>\n",
       "      <td>2.442857</td>\n",
       "      <td>6.226190</td>\n",
       "      <td>68.052381</td>\n",
       "      <td>19.227381</td>\n",
       "      <td>53.102381</td>\n",
       "      <td>14.857143</td>\n",
       "      <td>9.816667</td>\n",
       "      <td>7.602381</td>\n",
       "      <td>7.700000</td>\n",
       "    </tr>\n",
       "    <tr>\n",
       "      <th>std</th>\n",
       "      <td>19.532277</td>\n",
       "      <td>0.951287</td>\n",
       "      <td>10.971561</td>\n",
       "      <td>17.283056</td>\n",
       "      <td>7.682904</td>\n",
       "      <td>10.886241</td>\n",
       "      <td>3.986755</td>\n",
       "      <td>2.487522</td>\n",
       "      <td>2.819919</td>\n",
       "      <td>2.024364</td>\n",
       "    </tr>\n",
       "    <tr>\n",
       "      <th>min</th>\n",
       "      <td>2.890000</td>\n",
       "      <td>0.800000</td>\n",
       "      <td>0.400000</td>\n",
       "      <td>30.900000</td>\n",
       "      <td>3.020000</td>\n",
       "      <td>30.330000</td>\n",
       "      <td>7.900000</td>\n",
       "      <td>5.700000</td>\n",
       "      <td>3.600000</td>\n",
       "      <td>3.800000</td>\n",
       "    </tr>\n",
       "    <tr>\n",
       "      <th>25%</th>\n",
       "      <td>10.197500</td>\n",
       "      <td>1.650000</td>\n",
       "      <td>1.325000</td>\n",
       "      <td>56.625000</td>\n",
       "      <td>14.562500</td>\n",
       "      <td>47.200000</td>\n",
       "      <td>12.250000</td>\n",
       "      <td>8.225000</td>\n",
       "      <td>5.400000</td>\n",
       "      <td>6.500000</td>\n",
       "    </tr>\n",
       "    <tr>\n",
       "      <th>50%</th>\n",
       "      <td>20.850000</td>\n",
       "      <td>2.450000</td>\n",
       "      <td>2.500000</td>\n",
       "      <td>68.400000</td>\n",
       "      <td>17.975000</td>\n",
       "      <td>50.800000</td>\n",
       "      <td>15.000000</td>\n",
       "      <td>9.650000</td>\n",
       "      <td>7.150000</td>\n",
       "      <td>7.700000</td>\n",
       "    </tr>\n",
       "    <tr>\n",
       "      <th>75%</th>\n",
       "      <td>30.185000</td>\n",
       "      <td>3.150000</td>\n",
       "      <td>4.800000</td>\n",
       "      <td>81.725000</td>\n",
       "      <td>24.260000</td>\n",
       "      <td>59.127500</td>\n",
       "      <td>18.200000</td>\n",
       "      <td>11.850000</td>\n",
       "      <td>9.725000</td>\n",
       "      <td>9.050000</td>\n",
       "    </tr>\n",
       "    <tr>\n",
       "      <th>max</th>\n",
       "      <td>115.940000</td>\n",
       "      <td>4.600000</td>\n",
       "      <td>62.300000</td>\n",
       "      <td>100.000000</td>\n",
       "      <td>37.060000</td>\n",
       "      <td>79.400000</td>\n",
       "      <td>24.300000</td>\n",
       "      <td>15.600000</td>\n",
       "      <td>13.400000</td>\n",
       "      <td>12.600000</td>\n",
       "    </tr>\n",
       "  </tbody>\n",
       "</table>\n",
       "</div>"
      ],
      "text/plain": [
       "       Emergency Visits / 100000  Energy Burden % of Income  Imperviousness  \\\n",
       "count                  42.000000                  42.000000       42.000000   \n",
       "mean                   23.615476                   2.442857        6.226190   \n",
       "std                    19.532277                   0.951287       10.971561   \n",
       "min                     2.890000                   0.800000        0.400000   \n",
       "25%                    10.197500                   1.650000        1.325000   \n",
       "50%                    20.850000                   2.450000        2.500000   \n",
       "75%                    30.185000                   3.150000        4.800000   \n",
       "max                   115.940000                   4.600000       62.300000   \n",
       "\n",
       "       Park within 1/2 Mile  Hospital Beds / 10000  Housing Built before 1980  \\\n",
       "count             42.000000              42.000000                  42.000000   \n",
       "mean              68.052381              19.227381                  53.102381   \n",
       "std               17.283056               7.682904                  10.886241   \n",
       "min               30.900000               3.020000                  30.330000   \n",
       "25%               56.625000              14.562500                  47.200000   \n",
       "50%               68.400000              17.975000                  50.800000   \n",
       "75%               81.725000              24.260000                  59.127500   \n",
       "max              100.000000              37.060000                  79.400000   \n",
       "\n",
       "       Housing Insecurity  Lack of Reliable Transportation  % w/o Internet  \\\n",
       "count           42.000000                        42.000000       42.000000   \n",
       "mean            14.857143                         9.816667        7.602381   \n",
       "std              3.986755                         2.487522        2.819919   \n",
       "min              7.900000                         5.700000        3.600000   \n",
       "25%             12.250000                         8.225000        5.400000   \n",
       "50%             15.000000                         9.650000        7.150000   \n",
       "75%             18.200000                        11.850000        9.725000   \n",
       "max             24.300000                        15.600000       13.400000   \n",
       "\n",
       "       Utility Services Threat  \n",
       "count                42.000000  \n",
       "mean                  7.700000  \n",
       "std                   2.024364  \n",
       "min                   3.800000  \n",
       "25%                   6.500000  \n",
       "50%                   7.700000  \n",
       "75%                   9.050000  \n",
       "max                  12.600000  "
      ]
     },
     "execution_count": 5,
     "metadata": {},
     "output_type": "execute_result"
    }
   ],
   "source": [
    "county_df.describe()"
   ]
  },
  {
   "cell_type": "markdown",
   "id": "e8b2c4d4",
   "metadata": {},
   "source": [
    "#### Test-train split"
   ]
  },
  {
   "cell_type": "code",
   "execution_count": 6,
   "id": "8c13a258",
   "metadata": {},
   "outputs": [],
   "source": [
    "from sklearn.model_selection import train_test_split"
   ]
  },
  {
   "cell_type": "code",
   "execution_count": 7,
   "id": "32eb6496",
   "metadata": {},
   "outputs": [],
   "source": [
    "county_train, county_test = train_test_split(\n",
    "    county_df, test_size=0.2, random_state=216, shuffle=True\n",
    ")"
   ]
  },
  {
   "cell_type": "markdown",
   "id": "14381155",
   "metadata": {},
   "source": [
    "##### Exploratory Data Analysis"
   ]
  },
  {
   "cell_type": "code",
   "execution_count": 8,
   "id": "28edf3d0",
   "metadata": {},
   "outputs": [
    {
     "data": {
      "text/plain": [
       "Index(['Emergency Visits / 100000', 'Energy Burden % of Income',\n",
       "       'Imperviousness', 'Park within 1/2 Mile', 'Hospital Beds / 10000',\n",
       "       'Housing Built before 1980', 'Housing Insecurity',\n",
       "       'Lack of Reliable Transportation', '% w/o Internet',\n",
       "       'Utility Services Threat'],\n",
       "      dtype='object')"
      ]
     },
     "execution_count": 8,
     "metadata": {},
     "output_type": "execute_result"
    }
   ],
   "source": [
    "county_train.columns"
   ]
  },
  {
   "cell_type": "code",
   "execution_count": 9,
   "id": "67d3961c",
   "metadata": {},
   "outputs": [
    {
     "name": "stdout",
     "output_type": "stream",
     "text": [
      "Index(['Energy Burden % of Income', 'Imperviousness', 'Park within 1/2 Mile',\n",
      "       'Hospital Beds / 10000', 'Housing Built before 1980',\n",
      "       'Housing Insecurity', 'Lack of Reliable Transportation',\n",
      "       '% w/o Internet', 'Utility Services Threat'],\n",
      "      dtype='object')\n"
     ]
    }
   ],
   "source": [
    "features = county_train.columns[1:]\n",
    "\n",
    "print(features)"
   ]
  },
  {
   "cell_type": "code",
   "execution_count": 21,
   "id": "d6edda7f",
   "metadata": {},
   "outputs": [
    {
     "data": {
      "image/png": "[encoded data removed]",
      "text/plain": [
       "<Figure size 4500x500 with 9 Axes>"
      ]
     },
     "metadata": {},
     "output_type": "display_data"
    }
   ],
   "source": [
    "sns.pairplot(county_train,\n",
    "    y_vars=[\"Emergency Visits / 100000\"],\n",
    "    x_vars=features,\n",
    "    height=5,\n",
    "    diag_kind=None,\n",
    ")\n",
    "\n",
    "#sns.pairplot(data = county_train,\n",
    "#                x_vars = features,\n",
    "#                y_vars = features,\n",
    "#                hue = county_train.columns[0],\n",
    "#                plot_kws = {'alpha':.6})\n",
    "\n",
    "\n",
    "\n",
    "plt.show()"
   ]
  },
  {
   "cell_type": "code",
   "execution_count": 22,
   "id": "37ebd34a",
   "metadata": {},
   "outputs": [
    {
     "data": {
      "text/plain": [
       "Energy Burden % of Income          0.555806\n",
       "Imperviousness                    -0.338620\n",
       "Park within 1/2 Mile              -0.444207\n",
       "Hospital Beds / 10000             -0.168445\n",
       "Housing Built before 1980         -0.518500\n",
       "Housing Insecurity                 0.537360\n",
       "Lack of Reliable Transportation    0.562182\n",
       "% w/o Internet                     0.495678\n",
       "Utility Services Threat            0.593613\n",
       "dtype: float64"
      ]
     },
     "execution_count": 22,
     "metadata": {},
     "output_type": "execute_result"
    }
   ],
   "source": [
    "county_df[features].corrwith(county_df['Emergency Visits / 100000'])\n"
   ]
  },
  {
   "cell_type": "markdown",
   "id": "9066d98f",
   "metadata": {},
   "source": [
    "#### feature importance from highest to lowest importance:\n",
    "Utility Services Threat,\n",
    "\n",
    "Lack of Reliable Transportation,\n",
    "\n",
    "Energy Burden % of Income,\n",
    "\n",
    "Housing Insecurity,\n",
    "\n",
    "Housing Built before 1980,\n",
    "\n",
    "% w/o Internet,\n",
    "\n",
    "Park within 1/2 Mile,\n",
    "\n",
    "Imperviousness,\n",
    "\n",
    "Hospital Beds / 10000"
   ]
  }
 ],
 "metadata": {
  "kernelspec": {
   "display_name": "erdos_ds_environment",
   "language": "python",
   "name": "python3"
  },
  "language_info": {
   "codemirror_mode": {
    "name": "ipython",
    "version": 3
   },
   "file_extension": ".py",
   "mimetype": "text/x-python",
   "name": "python",
   "nbconvert_exporter": "python",
   "pygments_lexer": "ipython3",
   "version": "3.12.11"
  }
 },
 "nbformat": 4,
 "nbformat_minor": 5
}
